{
 "cells": [
  {
   "cell_type": "code",
   "execution_count": 1,
   "metadata": {
    "colab": {
     "base_uri": "https://localhost:8080/",
     "height": 35
    },
    "id": "ayaYjZloETGl",
    "outputId": "557570dc-c23c-422b-fb20-702a03e2d5e4"
   },
   "outputs": [],
   "source": [
    "import tensorflow as tf"
   ]
  },
  {
   "cell_type": "code",
   "execution_count": 2,
   "metadata": {
    "id": "MSZ_3x9nH7Fw"
   },
   "outputs": [],
   "source": [
    "# Importing the required libraries\n",
    "\n",
    "from tensorflow.keras.layers import Input, Lambda, Dense, Flatten,Conv2D\n",
    "from tensorflow.keras.models import Model\n",
    "from tensorflow.keras.applications.vgg19 import VGG19\n",
    "from tensorflow.keras.applications.resnet50 import preprocess_input\n",
    "from tensorflow.keras.preprocessing import image\n",
    "from tensorflow.keras.preprocessing.image import ImageDataGenerator,load_img\n",
    "import numpy as np\n",
    "from glob import glob\n",
    "import matplotlib.pyplot as plt"
   ]
  },
  {
   "cell_type": "code",
   "execution_count": 16,
   "metadata": {
    "id": "u5SbEejoH7Nq"
   },
   "outputs": [],
   "source": [
    "Image_size = [224,224] #Resizing the images to 224X224 \n",
    "\n",
    "train_path = 'Malaria_small_dataset/Train'\n",
    "val_path = 'Malaria_small_dataset/Test'"
   ]
  },
  {
   "cell_type": "code",
   "execution_count": 4,
   "metadata": {
    "id": "5UzB9wg8H7PV"
   },
   "outputs": [
    {
     "name": "stdout",
     "output_type": "stream",
     "text": [
      "Downloading data from https://storage.googleapis.com/tensorflow/keras-applications/vgg19/vgg19_weights_tf_dim_ordering_tf_kernels_notop.h5\n",
      "80142336/80134624 [==============================] - 93s 1us/step\n"
     ]
    }
   ],
   "source": [
    "vgg19 = VGG19(input_shape = Image_size +[3],\n",
    "              include_top=False,\n",
    "              weights='imagenet')"
   ]
  },
  {
   "cell_type": "code",
   "execution_count": 5,
   "metadata": {
    "colab": {
     "base_uri": "https://localhost:8080/"
    },
    "id": "1i5QxZpWH7TD",
    "outputId": "31520400-abec-4644-9845-997472a6c49a"
   },
   "outputs": [
    {
     "name": "stdout",
     "output_type": "stream",
     "text": [
      "Model: \"vgg19\"\n",
      "_________________________________________________________________\n",
      "Layer (type)                 Output Shape              Param #   \n",
      "=================================================================\n",
      "input_1 (InputLayer)         [(None, 224, 224, 3)]     0         \n",
      "_________________________________________________________________\n",
      "block1_conv1 (Conv2D)        (None, 224, 224, 64)      1792      \n",
      "_________________________________________________________________\n",
      "block1_conv2 (Conv2D)        (None, 224, 224, 64)      36928     \n",
      "_________________________________________________________________\n",
      "block1_pool (MaxPooling2D)   (None, 112, 112, 64)      0         \n",
      "_________________________________________________________________\n",
      "block2_conv1 (Conv2D)        (None, 112, 112, 128)     73856     \n",
      "_________________________________________________________________\n",
      "block2_conv2 (Conv2D)        (None, 112, 112, 128)     147584    \n",
      "_________________________________________________________________\n",
      "block2_pool (MaxPooling2D)   (None, 56, 56, 128)       0         \n",
      "_________________________________________________________________\n",
      "block3_conv1 (Conv2D)        (None, 56, 56, 256)       295168    \n",
      "_________________________________________________________________\n",
      "block3_conv2 (Conv2D)        (None, 56, 56, 256)       590080    \n",
      "_________________________________________________________________\n",
      "block3_conv3 (Conv2D)        (None, 56, 56, 256)       590080    \n",
      "_________________________________________________________________\n",
      "block3_conv4 (Conv2D)        (None, 56, 56, 256)       590080    \n",
      "_________________________________________________________________\n",
      "block3_pool (MaxPooling2D)   (None, 28, 28, 256)       0         \n",
      "_________________________________________________________________\n",
      "block4_conv1 (Conv2D)        (None, 28, 28, 512)       1180160   \n",
      "_________________________________________________________________\n",
      "block4_conv2 (Conv2D)        (None, 28, 28, 512)       2359808   \n",
      "_________________________________________________________________\n",
      "block4_conv3 (Conv2D)        (None, 28, 28, 512)       2359808   \n",
      "_________________________________________________________________\n",
      "block4_conv4 (Conv2D)        (None, 28, 28, 512)       2359808   \n",
      "_________________________________________________________________\n",
      "block4_pool (MaxPooling2D)   (None, 14, 14, 512)       0         \n",
      "_________________________________________________________________\n",
      "block5_conv1 (Conv2D)        (None, 14, 14, 512)       2359808   \n",
      "_________________________________________________________________\n",
      "block5_conv2 (Conv2D)        (None, 14, 14, 512)       2359808   \n",
      "_________________________________________________________________\n",
      "block5_conv3 (Conv2D)        (None, 14, 14, 512)       2359808   \n",
      "_________________________________________________________________\n",
      "block5_conv4 (Conv2D)        (None, 14, 14, 512)       2359808   \n",
      "_________________________________________________________________\n",
      "block5_pool (MaxPooling2D)   (None, 7, 7, 512)         0         \n",
      "=================================================================\n",
      "Total params: 20,024,384\n",
      "Trainable params: 20,024,384\n",
      "Non-trainable params: 0\n",
      "_________________________________________________________________\n"
     ]
    }
   ],
   "source": [
    "vgg19.summary()"
   ]
  },
  {
   "cell_type": "code",
   "execution_count": 7,
   "metadata": {
    "id": "iH-UwI3MLUGO"
   },
   "outputs": [],
   "source": [
    "# For not training existing weights\n",
    "\n",
    "for layer in vgg19.layers:\n",
    "      layer.trainable = False"
   ]
  },
  {
   "cell_type": "code",
   "execution_count": 9,
   "metadata": {
    "colab": {
     "base_uri": "https://localhost:8080/"
    },
    "id": "Vfh8iM5vLoqN",
    "outputId": "3aa05d1a-7ca0-4296-9381-ae0a3b7ac407"
   },
   "outputs": [
    {
     "name": "stdout",
     "output_type": "stream",
     "text": [
      "['Malaria_small_dataset/Train\\\\Parasite', 'Malaria_small_dataset/Train\\\\Uninfected']\n"
     ]
    }
   ],
   "source": [
    "# To see number of output classes\n",
    "train_folders = glob('Malaria_small_dataset/Train/*')\n",
    "print(train_folders)"
   ]
  },
  {
   "cell_type": "markdown",
   "metadata": {
    "id": "a2oGjREcMJSO"
   },
   "source": [
    "We have two output classes :\n",
    "1. Uninfected\n",
    "2. Parasite"
   ]
  },
  {
   "cell_type": "code",
   "execution_count": 10,
   "metadata": {
    "id": "MIePBDhyMFBF"
   },
   "outputs": [],
   "source": [
    "#Adding the our fully connected dense layers\n",
    "\n",
    "x = Flatten()(vgg19.output)  #Flatten layer \n",
    "hidden_layer1 = Dense(64, activation='relu')(x)  # first fully connected dense layer\n",
    "hidden_layer2 = Dense(32, activation='relu')(hidden_layer1)  # second fully connected dense layer\n",
    "prediction = Dense(1, activation='sigmoid')(hidden_layer2)\n",
    "\n",
    "model = Model(inputs=vgg19.input, outputs=prediction)"
   ]
  },
  {
   "cell_type": "code",
   "execution_count": 11,
   "metadata": {
    "colab": {
     "base_uri": "https://localhost:8080/"
    },
    "id": "c-NSbfQpNRuc",
    "outputId": "bfed824d-2f43-4e48-d34c-ca5718c07b1c"
   },
   "outputs": [
    {
     "name": "stdout",
     "output_type": "stream",
     "text": [
      "Model: \"model\"\n",
      "_________________________________________________________________\n",
      "Layer (type)                 Output Shape              Param #   \n",
      "=================================================================\n",
      "input_1 (InputLayer)         [(None, 224, 224, 3)]     0         \n",
      "_________________________________________________________________\n",
      "block1_conv1 (Conv2D)        (None, 224, 224, 64)      1792      \n",
      "_________________________________________________________________\n",
      "block1_conv2 (Conv2D)        (None, 224, 224, 64)      36928     \n",
      "_________________________________________________________________\n",
      "block1_pool (MaxPooling2D)   (None, 112, 112, 64)      0         \n",
      "_________________________________________________________________\n",
      "block2_conv1 (Conv2D)        (None, 112, 112, 128)     73856     \n",
      "_________________________________________________________________\n",
      "block2_conv2 (Conv2D)        (None, 112, 112, 128)     147584    \n",
      "_________________________________________________________________\n",
      "block2_pool (MaxPooling2D)   (None, 56, 56, 128)       0         \n",
      "_________________________________________________________________\n",
      "block3_conv1 (Conv2D)        (None, 56, 56, 256)       295168    \n",
      "_________________________________________________________________\n",
      "block3_conv2 (Conv2D)        (None, 56, 56, 256)       590080    \n",
      "_________________________________________________________________\n",
      "block3_conv3 (Conv2D)        (None, 56, 56, 256)       590080    \n",
      "_________________________________________________________________\n",
      "block3_conv4 (Conv2D)        (None, 56, 56, 256)       590080    \n",
      "_________________________________________________________________\n",
      "block3_pool (MaxPooling2D)   (None, 28, 28, 256)       0         \n",
      "_________________________________________________________________\n",
      "block4_conv1 (Conv2D)        (None, 28, 28, 512)       1180160   \n",
      "_________________________________________________________________\n",
      "block4_conv2 (Conv2D)        (None, 28, 28, 512)       2359808   \n",
      "_________________________________________________________________\n",
      "block4_conv3 (Conv2D)        (None, 28, 28, 512)       2359808   \n",
      "_________________________________________________________________\n",
      "block4_conv4 (Conv2D)        (None, 28, 28, 512)       2359808   \n",
      "_________________________________________________________________\n",
      "block4_pool (MaxPooling2D)   (None, 14, 14, 512)       0         \n",
      "_________________________________________________________________\n",
      "block5_conv1 (Conv2D)        (None, 14, 14, 512)       2359808   \n",
      "_________________________________________________________________\n",
      "block5_conv2 (Conv2D)        (None, 14, 14, 512)       2359808   \n",
      "_________________________________________________________________\n",
      "block5_conv3 (Conv2D)        (None, 14, 14, 512)       2359808   \n",
      "_________________________________________________________________\n",
      "block5_conv4 (Conv2D)        (None, 14, 14, 512)       2359808   \n",
      "_________________________________________________________________\n",
      "block5_pool (MaxPooling2D)   (None, 7, 7, 512)         0         \n",
      "_________________________________________________________________\n",
      "flatten (Flatten)            (None, 25088)             0         \n",
      "_________________________________________________________________\n",
      "dense (Dense)                (None, 64)                1605696   \n",
      "_________________________________________________________________\n",
      "dense_1 (Dense)              (None, 32)                2080      \n",
      "_________________________________________________________________\n",
      "dense_2 (Dense)              (None, 1)                 33        \n",
      "=================================================================\n",
      "Total params: 21,632,193\n",
      "Trainable params: 1,607,809\n",
      "Non-trainable params: 20,024,384\n",
      "_________________________________________________________________\n"
     ]
    }
   ],
   "source": [
    "model.summary()"
   ]
  },
  {
   "cell_type": "code",
   "execution_count": 12,
   "metadata": {
    "id": "774yCxFdNTfW"
   },
   "outputs": [],
   "source": [
    "model.compile(optimizer='adam',\n",
    "              loss='binary_crossentropy',\n",
    "              metrics =['accuracy'])"
   ]
  },
  {
   "cell_type": "code",
   "execution_count": 13,
   "metadata": {
    "id": "bVuROswKPduO"
   },
   "outputs": [],
   "source": [
    "train_datagen = ImageDataGenerator(rescale = 1./255,\n",
    "                                   shear_range = 0.2,\n",
    "                                   zoom_range = 0.2,\n",
    "                                   horizontal_flip = True)\n",
    "\n",
    "val_datagen = ImageDataGenerator(rescale = 1./255)"
   ]
  },
  {
   "cell_type": "code",
   "execution_count": 17,
   "metadata": {
    "colab": {
     "base_uri": "https://localhost:8080/"
    },
    "id": "rOro4OJSPd3S",
    "outputId": "511ef7fe-08e0-462e-9582-663b0f07573d"
   },
   "outputs": [
    {
     "name": "stdout",
     "output_type": "stream",
     "text": [
      "Found 416 images belonging to 2 classes.\n"
     ]
    }
   ],
   "source": [
    "training_set = train_datagen.flow_from_directory(train_path,\n",
    "                                                 target_size=(224, 224),\n",
    "                                                 batch_size = 32,\n",
    "                                                 class_mode ='binary')"
   ]
  },
  {
   "cell_type": "code",
   "execution_count": 18,
   "metadata": {
    "colab": {
     "base_uri": "https://localhost:8080/"
    },
    "id": "PhcozSToPd64",
    "outputId": "908e16ff-886d-4396-daaf-605f14286eca"
   },
   "outputs": [
    {
     "name": "stdout",
     "output_type": "stream",
     "text": [
      "Found 134 images belonging to 2 classes.\n"
     ]
    }
   ],
   "source": [
    "validation_set = val_datagen.flow_from_directory(val_path,\n",
    "                                                 target_size=(224, 224),\n",
    "                                                 batch_size = 32,\n",
    "                                                 class_mode ='binary')"
   ]
  },
  {
   "cell_type": "code",
   "execution_count": null,
   "metadata": {
    "colab": {
     "base_uri": "https://localhost:8080/"
    },
    "id": "SyIrQ8jQPd-M",
    "outputId": "f4e68a04-ceb0-4e04-9560-2904b28ef69c"
   },
   "outputs": [
    {
     "name": "stdout",
     "output_type": "stream",
     "text": [
      "Epoch 1/20\n",
      "13/13 [==============================] - ETA: 0s - loss: 0.7694 - accuracy: 0.5865 "
     ]
    }
   ],
   "source": [
    "#Fitting the model\n",
    "\n",
    "history = model.fit(\n",
    "    training_set,\n",
    "    validation_data = validation_set,\n",
    "    epochs = 20,\n",
    "    steps_per_epoch = len(training_set),\n",
    "    validation_steps=len(validation_set)\n",
    ") "
   ]
  },
  {
   "cell_type": "code",
   "execution_count": 140,
   "metadata": {
    "colab": {
     "base_uri": "https://localhost:8080/",
     "height": 530
    },
    "id": "1QbRt-acSZAg",
    "outputId": "a9c78655-c3ba-4f58-b4ad-843e921754eb"
   },
   "outputs": [
    {
     "data": {
      "image/png": "[encoded data removed]",
      "text/plain": [
       "<Figure size 432x288 with 1 Axes>"
      ]
     },
     "metadata": {
      "needs_background": "light",
      "tags": []
     },
     "output_type": "display_data"
    },
    {
     "data": {
      "image/png": "[encoded data removed]",
      "text/plain": [
       "<Figure size 432x288 with 1 Axes>"
      ]
     },
     "metadata": {
      "needs_background": "light",
      "tags": []
     },
     "output_type": "display_data"
    },
    {
     "data": {
      "text/plain": [
       "<Figure size 432x288 with 0 Axes>"
      ]
     },
     "metadata": {
      "tags": []
     },
     "output_type": "display_data"
    }
   ],
   "source": [
    "# plot the loss\n",
    "plt.plot(history.history['loss'], label='train loss')\n",
    "plt.plot(history.history['val_loss'], label='val loss')\n",
    "plt.legend()\n",
    "plt.show()\n",
    "plt.savefig('LossVal_loss')\n",
    "\n",
    "# plot the accuracy\n",
    "plt.plot(history.history['accuracy'], label='train acc')\n",
    "plt.plot(history.history['val_accuracy'], label='val acc')\n",
    "plt.legend()\n",
    "plt.show()\n",
    "plt.savefig('AccVal_acc')"
   ]
  },
  {
   "cell_type": "code",
   "execution_count": 141,
   "metadata": {
    "id": "V1XyxoYcWJZf"
   },
   "outputs": [],
   "source": [
    "from tensorflow.keras.models import load_model\n",
    "model.save('model_vgg19.h5')"
   ]
  },
  {
   "cell_type": "code",
   "execution_count": 142,
   "metadata": {
    "id": "B1vEkKPeYITo"
   },
   "outputs": [],
   "source": [
    "y_pred = model.predict(validation_set)"
   ]
  },
  {
   "cell_type": "code",
   "execution_count": 143,
   "metadata": {
    "colab": {
     "base_uri": "https://localhost:8080/"
    },
    "id": "hg2N1Cw8YUYu",
    "outputId": "3dc2b438-bf2a-4621-fe55-e29c882f14aa"
   },
   "outputs": [
    {
     "name": "stdout",
     "output_type": "stream",
     "text": [
      "[[9.56913173e-01]\n",
      " [7.92191505e-01]\n",
      " [8.74431372e-01]\n",
      " [9.00478959e-01]\n",
      " [9.23833176e-02]\n",
      " [2.38436889e-02]\n",
      " [1.47646710e-01]\n",
      " [2.50768978e-02]\n",
      " [7.95467973e-01]\n",
      " [3.67310931e-05]\n",
      " [4.76554632e-01]\n",
      " [4.12492186e-01]\n",
      " [4.88251355e-03]\n",
      " [6.58935428e-01]\n",
      " [1.79202447e-03]\n",
      " [9.61637914e-01]\n",
      " [9.38151360e-01]\n",
      " [9.52168226e-01]\n",
      " [4.63783801e-01]\n",
      " [3.17784011e-01]\n",
      " [4.42281693e-01]\n",
      " [6.76910277e-04]\n",
      " [4.61839139e-01]\n",
      " [1.29456386e-01]\n",
      " [1.15161821e-01]\n",
      " [5.07077396e-01]\n",
      " [7.45691299e-01]\n",
      " [7.39802024e-04]\n",
      " [8.31253171e-01]\n",
      " [7.23610342e-01]\n",
      " [4.14294243e-01]\n",
      " [2.69076049e-01]\n",
      " [2.51772523e-01]\n",
      " [5.34503199e-02]\n",
      " [9.76878405e-02]\n",
      " [9.39913213e-01]\n",
      " [4.27528918e-02]\n",
      " [8.69519711e-01]\n",
      " [1.03994180e-02]\n",
      " [1.11955893e-03]\n",
      " [2.88625322e-02]\n",
      " [7.32989796e-03]\n",
      " [2.27921885e-02]\n",
      " [8.33676636e-01]\n",
      " [9.62409317e-01]\n",
      " [2.94089373e-02]\n",
      " [7.87105819e-04]\n",
      " [8.84641826e-01]\n",
      " [7.43096590e-01]\n",
      " [3.84530127e-01]\n",
      " [3.06973811e-02]\n",
      " [1.15815587e-02]\n",
      " [4.76149529e-01]\n",
      " [6.97285752e-04]\n",
      " [9.09486592e-01]\n",
      " [9.44959879e-01]\n",
      " [4.10398036e-01]\n",
      " [9.37722743e-01]\n",
      " [2.23414917e-02]\n",
      " [9.63329077e-01]\n",
      " [9.02816713e-01]\n",
      " [3.33860695e-01]\n",
      " [2.22152751e-02]\n",
      " [9.05592382e-01]\n",
      " [6.84768558e-01]\n",
      " [7.46851146e-01]\n",
      " [7.20320046e-01]\n",
      " [4.25105495e-03]\n",
      " [3.79409343e-01]\n",
      " [1.07671125e-02]\n",
      " [8.14379275e-01]\n",
      " [5.43447077e-01]\n",
      " [7.97011197e-01]\n",
      " [3.58183705e-03]\n",
      " [8.76903185e-04]\n",
      " [1.27172470e-02]\n",
      " [3.11945821e-03]\n",
      " [7.80910075e-01]\n",
      " [8.43591690e-01]\n",
      " [1.36747155e-02]\n",
      " [3.20202066e-03]\n",
      " [8.02775919e-01]\n",
      " [3.38138342e-01]\n",
      " [3.52402516e-02]\n",
      " [3.33313286e-01]\n",
      " [7.17585623e-01]\n",
      " [8.80113006e-01]\n",
      " [5.51325327e-04]\n",
      " [1.13647785e-02]\n",
      " [8.82015347e-01]\n",
      " [3.46795213e-03]\n",
      " [8.74325514e-01]\n",
      " [1.78518792e-04]\n",
      " [8.00745249e-01]\n",
      " [1.87875077e-01]\n",
      " [7.51740694e-01]\n",
      " [8.50388765e-01]\n",
      " [5.05558774e-03]\n",
      " [4.10193384e-01]\n",
      " [9.48985457e-01]\n",
      " [6.54365346e-02]\n",
      " [1.31903127e-01]\n",
      " [1.73058677e-02]\n",
      " [9.13086593e-01]\n",
      " [8.17286273e-05]\n",
      " [5.18263970e-03]\n",
      " [9.13467646e-01]\n",
      " [4.71787434e-03]\n",
      " [9.59143758e-01]\n",
      " [9.12346065e-01]\n",
      " [9.18721378e-01]\n",
      " [6.26628757e-01]\n",
      " [9.81974304e-02]\n",
      " [9.88304377e-01]\n",
      " [4.34552401e-01]\n",
      " [6.46612942e-01]\n",
      " [2.72553831e-01]\n",
      " [8.20089459e-01]\n",
      " [9.31044221e-01]\n",
      " [9.38366055e-01]\n",
      " [9.45733726e-01]\n",
      " [4.45775926e-01]\n",
      " [1.98262513e-01]\n",
      " [9.71909463e-01]\n",
      " [5.07530808e-01]\n",
      " [1.43070608e-01]\n",
      " [6.43504933e-02]\n",
      " [1.20882303e-01]\n",
      " [8.94164681e-01]\n",
      " [2.40986422e-03]\n",
      " [9.29640770e-01]\n",
      " [1.43824935e-01]\n",
      " [6.89555192e-03]\n",
      " [4.99909252e-01]]\n"
     ]
    }
   ],
   "source": [
    "print(y_pred)"
   ]
  },
  {
   "cell_type": "code",
   "execution_count": null,
   "metadata": {
    "id": "oiUGgEVTh_3I"
   },
   "outputs": [],
   "source": []
  },
  {
   "cell_type": "markdown",
   "metadata": {
    "id": "wFYZBvtzcNo3"
   },
   "source": [
    "Testing a single image"
   ]
  },
  {
   "cell_type": "code",
   "execution_count": 168,
   "metadata": {
    "colab": {
     "base_uri": "https://localhost:8080/"
    },
    "id": "qMhKB0zrcEJ3",
    "outputId": "c1ea53c6-2385-4109-aff9-dc3ea9a58e51"
   },
   "outputs": [
    {
     "name": "stdout",
     "output_type": "stream",
     "text": [
      "infected\n"
     ]
    }
   ],
   "source": [
    "img1=image.load_img('/content/C33P1thinF_IMG_20150619_114756a_cell_180.png',target_size=(224,224))\n",
    "x=image.img_to_array(img1)\n",
    "x=x/255  #Resizing\n",
    "x=np.expand_dims(x,axis=0)\n",
    "model.predict(x)\n",
    "if model.predict(x) > 0.5:\n",
    "  print('uninfected')\n",
    "else:\n",
    "  print('infected')"
   ]
  },
  {
   "cell_type": "code",
   "execution_count": null,
   "metadata": {
    "id": "Yg1m_7Tzd1bA"
   },
   "outputs": [],
   "source": []
  }
 ],
 "metadata": {
  "accelerator": "GPU",
  "colab": {
   "collapsed_sections": [],
   "name": "Malaria_detection using VGG19.ipynb",
   "provenance": []
  },
  "kernelspec": {
   "display_name": "Python 3",
   "language": "python",
   "name": "python3"
  },
  "language_info": {
   "codemirror_mode": {
    "name": "ipython",
    "version": 3
   },
   "file_extension": ".py",
   "mimetype": "text/x-python",
   "name": "python",
   "nbconvert_exporter": "python",
   "pygments_lexer": "ipython3",
   "version": "3.8.9"
  }
 },
 "nbformat": 4,
 "nbformat_minor": 1
}
